{
 "cells": [
  {
   "cell_type": "markdown",
   "id": "2ea71b5a",
   "metadata": {},
   "source": [
    "# Classification on Income"
   ]
  },
  {
   "cell_type": "markdown",
   "id": "e3181f97",
   "metadata": {},
   "source": [
    "### Project Description"
   ]
  },
  {
   "cell_type": "markdown",
   "id": "8487a218",
   "metadata": {},
   "source": [
    "Our goal for this classification model is to predict the yearly income for employees, which will help us understand what influences the yearly income. This model would help employers determine what yearly income is approprite for new hires. Also, it can help employees find out where how much they should be earning yearly (weather they're above or below their predicted yearly income)."
   ]
  },
  {
   "cell_type": "markdown",
   "id": "b30bb203",
   "metadata": {},
   "source": [
    "### Data Description"
   ]
  },
  {
   "cell_type": "markdown",
   "id": "fc0af30a",
   "metadata": {},
   "source": [
    "The dataset that will be used in this project is from Kaggle. The data has 48,000 data points and 15 features.\n",
    "\n",
    "Some noteworthy features:\n",
    " - Age\n",
    " - Work Class\n",
    " - Education\n",
    " - Occupation\n",
    " - Marital Status\n",
    " - Gender\n",
    " - Race"
   ]
  },
  {
   "cell_type": "markdown",
   "id": "7b75955f",
   "metadata": {},
   "source": [
    "### Tools"
   ]
  },
  {
   "cell_type": "markdown",
   "id": "bb8f3aac",
   "metadata": {},
   "source": [
    "We plan to used the following Tools*:\n",
    "\n",
    "- Data Manipulation and Cleaning : Pandas and Numpy.\n",
    "- Plotting : Matplotlib, Seaborn and Plotly.\n",
    "- Modeling : Sklearn\n",
    "\n",
    "\n",
    "*The tools might change in the future depending on the requirements of the project.\n"
   ]
  },
  {
   "cell_type": "markdown",
   "id": "0bd9daf1",
   "metadata": {},
   "source": [
    "### Minimum Viable Product"
   ]
  },
  {
   "cell_type": "markdown",
   "id": "e07d4466",
   "metadata": {},
   "source": [
    "The minimum viable product of this project is to build and compare 3 different classifcations models. After that, depending on our results we will determine which model is best for our use case. The goal is to have a model that'll predict yearly income of employees based on the selected features."
   ]
  },
  {
   "cell_type": "markdown",
   "id": "7b23f8b9",
   "metadata": {},
   "source": [
    "\n",
    "Prepared by: \n",
    "\n",
    "Ghanim Alghanim\n",
    "\n",
    "Omran Fallatah\n"
   ]
  }
 ],
 "metadata": {
  "kernelspec": {
   "display_name": "Python 3",
   "language": "python",
   "name": "python3"
  },
  "language_info": {
   "codemirror_mode": {
    "name": "ipython",
    "version": 3
   },
   "file_extension": ".py",
   "mimetype": "text/x-python",
   "name": "python",
   "nbconvert_exporter": "python",
   "pygments_lexer": "ipython3",
   "version": "3.8.8"
  }
 },
 "nbformat": 4,
 "nbformat_minor": 5
}
